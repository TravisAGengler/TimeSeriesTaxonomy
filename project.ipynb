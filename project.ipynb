{
 "cells": [
  {
   "cell_type": "markdown",
   "id": "1e640f85",
   "metadata": {},
   "source": [
    "# CS 6080 - Time Series Taxonomy"
   ]
  },
  {
   "cell_type": "code",
   "execution_count": null,
   "id": "deeb2b52",
   "metadata": {},
   "outputs": [],
   "source": [
    "import gc\n",
    "import os\n",
    "import time\n",
    "\n",
    "import pandas as pd\n",
    "import matplotlib as plt\n",
    "import numpy as np\n",
    "\n",
    "from pyts.classification import KNeighborsClassifier, BOSSVS\n",
    "\n",
    "from sklearn.model_selection import StratifiedShuffleSplit\n",
    "\n",
    "from utils import load_dataset, run_classifiers_on_dataset"
   ]
  },
  {
   "cell_type": "markdown",
   "id": "13d68ad8",
   "metadata": {},
   "source": [
    "## Load Datasets into RAM and Perform learning on the Species and Breed labels"
   ]
  },
  {
   "cell_type": "code",
   "execution_count": null,
   "id": "e9b22004",
   "metadata": {},
   "outputs": [],
   "source": [
    "# dataset_a1_sample_size = 64*64\n",
    "# dataset_a1 = load_dataset(\"data/a1\", dataset_a1_sample_size)"
   ]
  },
  {
   "cell_type": "code",
   "execution_count": null,
   "id": "5f9d3a92",
   "metadata": {},
   "outputs": [],
   "source": [
    "# dataset_a1_metrics = run_classifiers_on_dataset(dataset_a1)\n",
    "# del dataset_a1\n",
    "# gc.collect()"
   ]
  },
  {
   "cell_type": "code",
   "execution_count": null,
   "id": "6b196ee9",
   "metadata": {},
   "outputs": [],
   "source": [
    "dataset_a2_sample_size = 64*3\n",
    "dataset_a2 = load_dataset(\"data/a2\", dataset_a2_sample_size)"
   ]
  },
  {
   "cell_type": "code",
   "execution_count": null,
   "id": "b637ecab",
   "metadata": {},
   "outputs": [],
   "source": [
    "dataset_a2_metrics = run_classifiers_on_dataset(dataset_a2)\n",
    "del dataset_a2\n",
    "gc.collect()"
   ]
  },
  {
   "cell_type": "code",
   "execution_count": null,
   "id": "f6d497d1",
   "metadata": {},
   "outputs": [],
   "source": [
    "# dataset_a3_sample_size = 64*3\n",
    "# dataset_a3 = load_dataset(\"data/a3\", dataset_a3_sample_size)"
   ]
  },
  {
   "cell_type": "code",
   "execution_count": null,
   "id": "40a128e6",
   "metadata": {},
   "outputs": [],
   "source": [
    "# dataset_a3_metrics = run_classifiers_on_dataset(dataset_a3)\n",
    "# del dataset_a3\n",
    "# gc.collect()"
   ]
  },
  {
   "cell_type": "markdown",
   "id": "7b39c0ea",
   "metadata": {},
   "source": [
    "## Report metrics and create plots (Accuracy, Precision, Recall, ROC)"
   ]
  },
  {
   "cell_type": "code",
   "execution_count": null,
   "id": "7547f024",
   "metadata": {},
   "outputs": [],
   "source": []
  }
 ],
 "metadata": {
  "kernelspec": {
   "display_name": "time_series_project",
   "language": "python",
   "name": "time_series_project"
  },
  "language_info": {
   "codemirror_mode": {
    "name": "ipython",
    "version": 3
   },
   "file_extension": ".py",
   "mimetype": "text/x-python",
   "name": "python",
   "nbconvert_exporter": "python",
   "pygments_lexer": "ipython3",
   "version": "3.9.7"
  }
 },
 "nbformat": 4,
 "nbformat_minor": 5
}
