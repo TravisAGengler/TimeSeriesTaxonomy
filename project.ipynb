{
 "cells": [
  {
   "cell_type": "markdown",
   "id": "1e640f85",
   "metadata": {},
   "source": [
    "# CS 6080 - Time Series Taxonomy"
   ]
  },
  {
   "cell_type": "code",
   "execution_count": 1,
   "id": "deeb2b52",
   "metadata": {},
   "outputs": [],
   "source": [
    "import gc\n",
    "import os\n",
    "import time\n",
    "import pickle\n",
    "\n",
    "import pandas as pd\n",
    "import matplotlib.pyplot as plt\n",
    "import numpy as np\n",
    "\n",
    "from pyts.classification import KNeighborsClassifier, BOSSVS\n",
    "\n",
    "from sklearn.model_selection import StratifiedShuffleSplit\n",
    "\n",
    "from utils import load_dataset, run_classifiers_on_dataset, get_hyperparams, get_metric, create_accuracy_plot, create_roc_plot"
   ]
  },
  {
   "cell_type": "markdown",
   "id": "13d68ad8",
   "metadata": {},
   "source": [
    "## Load Datasets into RAM and Perform learning on the Species and Breed labels"
   ]
  },
  {
   "cell_type": "code",
   "execution_count": 2,
   "id": "e9b22004",
   "metadata": {},
   "outputs": [
    {
     "name": "stdout",
     "output_type": "stream",
     "text": [
      "Loading sample 0\n",
      "Loading sample 10000\n",
      "Loading sample 20000\n",
      "Loading sample 30000\n",
      "Loaded 32768 samples in 170.86 seconds\n"
     ]
    }
   ],
   "source": [
    "dataset_a1_sample_size = 64*64\n",
    "dataset_a1 = load_dataset(\"data/a1\", dataset_a1_sample_size)"
   ]
  },
  {
   "cell_type": "code",
   "execution_count": null,
   "id": "5f9d3a92",
   "metadata": {},
   "outputs": [
    {
     "name": "stdout",
     "output_type": "stream",
     "text": [
      "Starting run: Species KNN with args {'metric': 'euclidean', 'n_neighbors': 1}\n",
      "Metrics for this run:\n",
      "\ttrain_time_sec: 0.1637555\n",
      "\ttest_time_sec: 51.4451469\n",
      "\ttrain_accuracy: 1.0\n",
      "\ttrain_precision: 1.0\n",
      "\ttrain_recall: 1.0\n",
      "\ttest_accuracy: 0.5886481537992065\n",
      "\ttest_precision: 0.590608395545384\n",
      "\ttest_recall: 0.5886481537992065\n",
      "\troc_false_pos_rate: [0.         0.33780897 1.        ]\n",
      "\troc_true_pos_rate: [0.         0.51510528 1.        ]\n",
      "\troc_auc: 0.5886481537992065\n",
      "Starting run: Species KNN with args {'metric': 'euclidean', 'n_neighbors': 3}\n",
      "Metrics for this run:\n",
      "\ttrain_time_sec: 0.1606437\n",
      "\ttest_time_sec: 53.6992245\n",
      "\ttrain_accuracy: 0.785801480125124\n",
      "\ttrain_precision: 0.785801480125124\n",
      "\ttrain_recall: 0.785801480125124\n",
      "\ttest_accuracy: 0.592004882514495\n",
      "\ttest_precision: 0.5944190609598312\n",
      "\ttest_recall: 0.592004882514495\n",
      "\troc_false_pos_rate: [0.         0.08819042 0.32804394 0.68202624 1.        ]\n",
      "\troc_true_pos_rate: [0.         0.16966738 0.51205371 0.83704608 1.        ]\n",
      "\troc_auc: 0.6200830656961359\n",
      "Starting run: Species KNN with args {'metric': 'euclidean', 'n_neighbors': 5}\n",
      "Metrics for this run:\n",
      "\ttrain_time_sec: 0.1605661\n",
      "\ttest_time_sec: 55.7963791\n",
      "\ttrain_accuracy: 0.7370870527199207\n",
      "\ttrain_precision: 0.7370870527199207\n",
      "\ttrain_recall: 0.7370870527199207\n",
      "\ttest_accuracy: 0.5993286542569424\n",
      "\ttest_precision: 0.6028217125013483\n",
      "\ttest_recall: 0.5993286542569423\n",
      "\troc_false_pos_rate: [0.         0.02593836 0.12389381 0.30851388 0.57674702 0.83582545\n",
      " 1.        ]\n",
      "\troc_true_pos_rate: [0.         0.06469332 0.24748245 0.50717119 0.76747025 0.93256027\n",
      " 1.        ]\n",
      "\troc_auc: 0.6356005445337152\n",
      "Starting run: Breed KNN with args {'metric': 'euclidean', 'n_neighbors': 1}\n",
      "Metrics for this run:\n",
      "\ttrain_time_sec: 0.1819572\n",
      "\ttest_time_sec: 51.2859096\n",
      "\ttrain_accuracy: 1.0\n",
      "\ttrain_precision: 1.0\n",
      "\ttrain_recall: 1.0\n",
      "\ttest_accuracy: 0.05523344522429051\n",
      "\ttest_precision: 0.06662148391357317\n",
      "\ttest_recall: 0.04226760884278365\n",
      "\troc_false_pos_rate: None\n",
      "\troc_true_pos_rate: None\n",
      "\troc_auc: None\n",
      "Starting run: Breed KNN with args {'metric': 'euclidean', 'n_neighbors': 3}\n"
     ]
    },
    {
     "name": "stderr",
     "output_type": "stream",
     "text": [
      "C:\\Users\\Travis\\Desktop\\CS_6080\\utils.py:110: RuntimeWarning: invalid value encountered in true_divide\n",
      "  test_precision = np.nanmean(np.diag(test_confusion) / np.sum(test_confusion, axis = 0))\n"
     ]
    },
    {
     "name": "stdout",
     "output_type": "stream",
     "text": [
      "Metrics for this run:\n",
      "\ttrain_time_sec: 0.1631337\n",
      "\ttest_time_sec: 53.191256\n",
      "\ttrain_accuracy: 0.4155031662470436\n",
      "\ttrain_precision: 0.4155031662470436\n",
      "\ttrain_recall: 0.4155031662470436\n",
      "\ttest_accuracy: 0.03616112297833384\n",
      "\ttest_precision: 0.04058679350777076\n",
      "\ttest_recall: 0.035028387019827446\n",
      "\troc_false_pos_rate: None\n",
      "\troc_true_pos_rate: None\n",
      "\troc_auc: None\n",
      "Starting run: Breed KNN with args {'metric': 'euclidean', 'n_neighbors': 5}\n",
      "Metrics for this run:\n",
      "\ttrain_time_sec: 0.161947\n",
      "\ttest_time_sec: 54.401998\n",
      "\ttrain_accuracy: 0.29095140001525904\n",
      "\ttrain_precision: 0.29095140001525904\n",
      "\ttrain_recall: 0.29095140001525904\n",
      "\ttest_accuracy: 0.03921269453768691\n",
      "\ttest_precision: 0.037398508832363966\n",
      "\ttest_recall: 0.033045126554586364\n",
      "\troc_false_pos_rate: None\n",
      "\troc_true_pos_rate: None\n",
      "\troc_auc: None\n",
      "Starting run: Species BOSSVS with args {'word_size': 2, 'window_size': 16}\n",
      "Metrics for this run:\n",
      "\ttrain_time_sec: 1397.9294779\n",
      "\ttest_time_sec: 1656.6356547\n",
      "\ttrain_accuracy: 0.5600061036087587\n",
      "\ttrain_precision: 0.5600061036087587\n",
      "\ttrain_recall: 0.5600061036087587\n",
      "\ttest_accuracy: 0.5643881599023497\n",
      "\ttest_precision: 0.5660578938880826\n",
      "\ttest_recall: 0.5643881599023497\n",
      "\troc_false_pos_rate: [0.         0.51510528 1.        ]\n",
      "\troc_true_pos_rate: [0.        0.6438816 1.       ]\n",
      "\troc_auc: 0.5643881599023497\n",
      "Starting run: Species BOSSVS with args {'word_size': 3, 'window_size': 16}\n",
      "Encountered an exception running model BOSSVS(window_size=16, word_size=3): Unable to allocate 14.3 GiB for an array with shape (213958668, 9) and data type float64\n",
      "Starting run: Species BOSSVS with args {'word_size': 4, 'window_size': 16}\n"
     ]
    }
   ],
   "source": [
    "dataset_a1_metrics = run_classifiers_on_dataset(dataset_a1)\n",
    "with open('dataset_a1_metrics.pkl', 'wb') as handle:\n",
    "    pickle.dump(dataset_a1_metrics, handle)\n",
    "del dataset_a1\n",
    "gc.collect()"
   ]
  },
  {
   "cell_type": "code",
   "execution_count": 9,
   "id": "6b196ee9",
   "metadata": {},
   "outputs": [
    {
     "name": "stdout",
     "output_type": "stream",
     "text": [
      "Loading sample 0\n",
      "Loading sample 10000\n",
      "Loading sample 20000\n",
      "Loading sample 30000\n",
      "Loaded 32768 samples in 111.99 seconds\n"
     ]
    }
   ],
   "source": [
    "dataset_a2_sample_size = 64*3\n",
    "dataset_a2 = load_dataset(\"data/a2\", dataset_a2_sample_size)"
   ]
  },
  {
   "cell_type": "code",
   "execution_count": 10,
   "id": "b637ecab",
   "metadata": {},
   "outputs": [
    {
     "name": "stdout",
     "output_type": "stream",
     "text": [
      "Starting run: Species KNN with args {'metric': 'euclidean', 'n_neighbors': 1}\n",
      "Metrics for this run:\n",
      "\ttrain_time_sec: 0.0104475\n",
      "\ttest_time_sec: 13.3941533\n",
      "\ttrain_accuracy: 1.0\n",
      "\ttrain_precision: 1.0\n",
      "\ttrain_recall: 1.0\n",
      "\ttest_accuracy: 0.6222154409520904\n",
      "\ttest_precision: 0.6224789501312336\n",
      "\ttest_recall: 0.6222154409520904\n",
      "\troc_false_pos_rate: [0.        0.4009765 1.       ]\n",
      "\troc_true_pos_rate: [0.         0.64540738 1.        ]\n",
      "\troc_auc: 0.6222154409520904\n",
      "Starting run: Species KNN with args {'metric': 'euclidean', 'n_neighbors': 3}\n",
      "Metrics for this run:\n",
      "\ttrain_time_sec: 0.0088452\n",
      "\ttest_time_sec: 15.317153\n",
      "\ttrain_accuracy: 0.8058670939192798\n",
      "\ttrain_precision: 0.8058670939192798\n",
      "\ttrain_recall: 0.8058670939192798\n",
      "\ttest_accuracy: 0.6322856270979554\n",
      "\ttest_precision: 0.6326017356833844\n",
      "\ttest_recall: 0.6322856270979554\n",
      "\troc_false_pos_rate: [0.         0.1153494  0.39212695 0.73390296 1.        ]\n",
      "\troc_true_pos_rate: [0.         0.30607263 0.6566982  0.89014342 1.        ]\n",
      "\troc_auc: 0.6667067862500301\n",
      "Starting run: Species KNN with args {'metric': 'euclidean', 'n_neighbors': 5}\n",
      "Metrics for this run:\n",
      "\ttrain_time_sec: 0.0087489\n",
      "\ttest_time_sec: 18.15875\n",
      "\ttrain_accuracy: 0.7642099641412985\n",
      "\ttrain_precision: 0.7642099641412985\n",
      "\ttrain_recall: 0.7642099641412985\n",
      "\ttest_accuracy: 0.6324382056759231\n",
      "\ttest_precision: 0.6328991877758965\n",
      "\ttest_recall: 0.632438205675923\n",
      "\troc_false_pos_rate: [0.         0.0469942  0.18065304 0.39700946 0.62496186 0.86298444\n",
      " 1.        ]\n",
      "\troc_true_pos_rate: [0.         0.16753128 0.41440342 0.66188587 0.84620079 0.96185536\n",
      " 1.        ]\n",
      "\troc_auc: 0.6807253446846457\n",
      "Starting run: Breed KNN with args {'metric': 'euclidean', 'n_neighbors': 1}\n",
      "Metrics for this run:\n",
      "\ttrain_time_sec: 0.0119845\n",
      "\ttest_time_sec: 13.3724139\n",
      "\ttrain_accuracy: 0.9997329671168078\n",
      "\ttrain_precision: 0.9997329671168078\n",
      "\ttrain_recall: 0.9997329671168078\n",
      "\ttest_accuracy: 0.06698199572779982\n",
      "\ttest_precision: 0.056386628856780356\n",
      "\ttest_recall: 0.056333581338163144\n",
      "\troc_false_pos_rate: None\n",
      "\troc_true_pos_rate: None\n",
      "\troc_auc: None\n",
      "Starting run: Breed KNN with args {'metric': 'euclidean', 'n_neighbors': 3}\n",
      "Metrics for this run:\n",
      "\ttrain_time_sec: 0.010271\n",
      "\ttest_time_sec: 15.3726401\n",
      "\ttrain_accuracy: 0.3793011367971313\n",
      "\ttrain_precision: 0.3793011367971313\n",
      "\ttrain_recall: 0.3793011367971313\n",
      "\ttest_accuracy: 0.04745193774794019\n",
      "\ttest_precision: 0.04021486762819367\n",
      "\ttest_recall: 0.044635045284780336\n",
      "\troc_false_pos_rate: None\n",
      "\troc_true_pos_rate: None\n",
      "\troc_auc: None\n",
      "Starting run: Breed KNN with args {'metric': 'euclidean', 'n_neighbors': 5}\n",
      "Metrics for this run:\n",
      "\ttrain_time_sec: 0.0109108\n",
      "\ttest_time_sec: 18.402329\n",
      "\ttrain_accuracy: 0.2758449683375296\n",
      "\ttrain_precision: 0.2758449683375296\n",
      "\ttrain_recall: 0.2758449683375296\n",
      "\ttest_accuracy: 0.05065608788526091\n",
      "\ttest_precision: 0.03998207522539017\n",
      "\ttest_recall: 0.041944939626923416\n",
      "\troc_false_pos_rate: None\n",
      "\troc_true_pos_rate: None\n",
      "\troc_auc: None\n",
      "Starting run: Species BOSSVS with args {'word_size': 2, 'window_size': 16}\n",
      "Metrics for this run:\n",
      "\ttrain_time_sec: 10.4245261\n",
      "\ttest_time_sec: 12.8052627\n",
      "\ttrain_accuracy: 0.5475700007629511\n",
      "\ttrain_precision: 0.5475700007629511\n",
      "\ttrain_recall: 0.5475700007629511\n",
      "\ttest_accuracy: 0.5506560878852609\n",
      "\ttest_precision: 0.5860114778525765\n",
      "\ttest_recall: 0.5506560878852609\n",
      "\troc_false_pos_rate: [0.        0.7699115 1.       ]\n",
      "\troc_true_pos_rate: [0.         0.87122368 1.        ]\n",
      "\troc_auc: 0.550656087885261\n",
      "Starting run: Species BOSSVS with args {'word_size': 3, 'window_size': 16}\n",
      "Metrics for this run:\n",
      "\ttrain_time_sec: 12.0250704\n",
      "\ttest_time_sec: 14.6217944\n",
      "\ttrain_accuracy: 0.5566872663462272\n",
      "\ttrain_precision: 0.5566872663462272\n",
      "\ttrain_recall: 0.5566872663462272\n",
      "\ttest_accuracy: 0.5567592310039671\n",
      "\ttest_precision: 0.5848266175900814\n",
      "\ttest_recall: 0.5567592310039671\n",
      "\troc_false_pos_rate: [0.         0.73085139 1.        ]\n",
      "\troc_true_pos_rate: [0.         0.84436985 1.        ]\n",
      "\troc_auc: 0.5567592310039671\n",
      "Starting run: Species BOSSVS with args {'word_size': 4, 'window_size': 16}\n",
      "Metrics for this run:\n",
      "\ttrain_time_sec: 14.0307\n",
      "\ttest_time_sec: 17.0630224\n",
      "\ttrain_accuracy: 0.5511558709086748\n",
      "\ttrain_precision: 0.5511558709086748\n",
      "\ttrain_recall: 0.5511558709086748\n",
      "\ttest_accuracy: 0.5527921879768081\n",
      "\ttest_precision: 0.6093749517679925\n",
      "\ttest_recall: 0.5527921879768081\n",
      "\troc_false_pos_rate: [0.         0.80683552 1.        ]\n",
      "\troc_true_pos_rate: [0.        0.9124199 1.       ]\n",
      "\troc_auc: 0.5527921879768081\n",
      "Starting run: Breed BOSSVS with args {'word_size': 2, 'window_size': 16}\n"
     ]
    },
    {
     "name": "stderr",
     "output_type": "stream",
     "text": [
      "C:\\Users\\Travis\\Desktop\\CS_6080\\utils.py:107: RuntimeWarning: invalid value encountered in true_divide\n",
      "  train_precision = np.nanmean(np.diag(train_confusion) / np.sum(train_confusion, axis = 0))\n",
      "C:\\Users\\Travis\\Desktop\\CS_6080\\utils.py:110: RuntimeWarning: invalid value encountered in true_divide\n",
      "  test_precision = np.nanmean(np.diag(test_confusion) / np.sum(test_confusion, axis = 0))\n"
     ]
    },
    {
     "name": "stdout",
     "output_type": "stream",
     "text": [
      "Metrics for this run:\n",
      "\ttrain_time_sec: 10.5772818\n",
      "\ttest_time_sec: 12.9712148\n",
      "\ttrain_accuracy: 0.031280994888227664\n",
      "\ttrain_precision: 0.031280994888227664\n",
      "\ttrain_recall: 0.031280994888227664\n",
      "\ttest_accuracy: 0.029905401281660055\n",
      "\ttest_precision: 0.016045634359996543\n",
      "\ttest_recall: 0.018253075881902583\n",
      "\troc_false_pos_rate: None\n",
      "\troc_true_pos_rate: None\n",
      "\troc_auc: None\n",
      "Starting run: Breed BOSSVS with args {'word_size': 3, 'window_size': 16}\n"
     ]
    },
    {
     "name": "stderr",
     "output_type": "stream",
     "text": [
      "C:\\Users\\Travis\\Desktop\\CS_6080\\utils.py:107: RuntimeWarning: invalid value encountered in true_divide\n",
      "  train_precision = np.nanmean(np.diag(train_confusion) / np.sum(train_confusion, axis = 0))\n",
      "C:\\Users\\Travis\\Desktop\\CS_6080\\utils.py:110: RuntimeWarning: invalid value encountered in true_divide\n",
      "  test_precision = np.nanmean(np.diag(test_confusion) / np.sum(test_confusion, axis = 0))\n"
     ]
    },
    {
     "name": "stdout",
     "output_type": "stream",
     "text": [
      "Metrics for this run:\n",
      "\ttrain_time_sec: 12.0126785\n",
      "\ttest_time_sec: 14.8521639\n",
      "\ttrain_accuracy: 0.031319142442969405\n",
      "\ttrain_precision: 0.031319142442969405\n",
      "\ttrain_recall: 0.031319142442969405\n",
      "\ttest_accuracy: 0.025480622520598108\n",
      "\ttest_precision: 0.025084072838544694\n",
      "\ttest_recall: 0.02138926410956009\n",
      "\troc_false_pos_rate: None\n",
      "\troc_true_pos_rate: None\n",
      "\troc_auc: None\n",
      "Starting run: Breed BOSSVS with args {'word_size': 4, 'window_size': 16}\n",
      "Metrics for this run:\n",
      "\ttrain_time_sec: 14.0296665\n",
      "\ttest_time_sec: 17.0073122\n",
      "\ttrain_accuracy: 0.021629663538567177\n",
      "\ttrain_precision: 0.021629663538567177\n",
      "\ttrain_recall: 0.021629663538567177\n",
      "\ttest_accuracy: 0.013426914861153494\n",
      "\ttest_precision: 0.014083552016028043\n",
      "\ttest_recall: 0.0184230687867383\n",
      "\troc_false_pos_rate: None\n",
      "\troc_true_pos_rate: None\n",
      "\troc_auc: None\n"
     ]
    },
    {
     "name": "stderr",
     "output_type": "stream",
     "text": [
      "C:\\Users\\Travis\\Desktop\\CS_6080\\utils.py:107: RuntimeWarning: invalid value encountered in true_divide\n",
      "  train_precision = np.nanmean(np.diag(train_confusion) / np.sum(train_confusion, axis = 0))\n",
      "C:\\Users\\Travis\\Desktop\\CS_6080\\utils.py:110: RuntimeWarning: invalid value encountered in true_divide\n",
      "  test_precision = np.nanmean(np.diag(test_confusion) / np.sum(test_confusion, axis = 0))\n"
     ]
    },
    {
     "data": {
      "text/plain": [
       "0"
      ]
     },
     "execution_count": 10,
     "metadata": {},
     "output_type": "execute_result"
    }
   ],
   "source": [
    "dataset_a2_metrics = run_classifiers_on_dataset(dataset_a2)\n",
    "with open('dataset_a2_metrics.pkl', 'wb') as handle:\n",
    "    pickle.dump(dataset_a2_metrics, handle)\n",
    "del dataset_a2\n",
    "gc.collect()"
   ]
  },
  {
   "cell_type": "code",
   "execution_count": 11,
   "id": "f6d497d1",
   "metadata": {},
   "outputs": [
    {
     "name": "stdout",
     "output_type": "stream",
     "text": [
      "Loading sample 0\n",
      "Loading sample 10000\n",
      "Loading sample 20000\n",
      "Loading sample 30000\n",
      "Loaded 32768 samples in 121.66 seconds\n"
     ]
    }
   ],
   "source": [
    "dataset_a3_sample_size = ((16 * 16) + (20 * 4) + (28 * 1)) * 3\n",
    "dataset_a3 = load_dataset(\"data/a3\", dataset_a3_sample_size)"
   ]
  },
  {
   "cell_type": "code",
   "execution_count": 12,
   "id": "40a128e6",
   "metadata": {},
   "outputs": [
    {
     "name": "stdout",
     "output_type": "stream",
     "text": [
      "Starting run: Species KNN with args {'metric': 'euclidean', 'n_neighbors': 1}\n",
      "Metrics for this run:\n",
      "\ttrain_time_sec: 0.0500679\n",
      "\ttest_time_sec: 22.0119606\n",
      "\ttrain_accuracy: 1.0\n",
      "\ttrain_precision: 1.0\n",
      "\ttrain_recall: 1.0\n",
      "\ttest_accuracy: 0.5404333231614281\n",
      "\ttest_precision: 0.5406624685235255\n",
      "\ttest_recall: 0.5404333231614281\n",
      "\troc_false_pos_rate: [0.         0.42203235 1.        ]\n",
      "\troc_true_pos_rate: [0.         0.50289899 1.        ]\n",
      "\troc_auc: 0.5404333231614281\n",
      "Starting run: Species KNN with args {'metric': 'euclidean', 'n_neighbors': 3}\n",
      "Metrics for this run:\n",
      "\ttrain_time_sec: 0.0444576\n",
      "\ttest_time_sec: 23.8471116\n",
      "\ttrain_accuracy: 0.7689784084840162\n",
      "\ttrain_precision: 0.7689784084840162\n",
      "\ttrain_recall: 0.7689784084840162\n",
      "\ttest_accuracy: 0.5451632590784254\n",
      "\ttest_precision: 0.5454650787817883\n",
      "\ttest_recall: 0.5451632590784254\n",
      "\troc_false_pos_rate: [0.         0.09520903 0.41409826 0.80561489 1.        ]\n",
      "\troc_true_pos_rate: [0.         0.13854135 0.50442478 0.86206897 1.        ]\n",
      "\troc_auc: 0.5575944322647494\n",
      "Starting run: Species KNN with args {'metric': 'euclidean', 'n_neighbors': 5}\n",
      "Metrics for this run:\n",
      "\ttrain_time_sec: 0.044621\n",
      "\ttest_time_sec: 26.7595267\n",
      "\ttrain_accuracy: 0.7093156328679332\n",
      "\ttrain_precision: 0.7093156328679332\n",
      "\ttrain_recall: 0.7093156328679332\n",
      "\ttest_accuracy: 0.5471467805920048\n",
      "\ttest_precision: 0.5476598279094606\n",
      "\ttest_recall: 0.5471467805920048\n",
      "\troc_false_pos_rate: [0.         0.02593836 0.14678059 0.4009765  0.72688435 0.93408605\n",
      " 1.        ]\n",
      "\troc_true_pos_rate: [0.         0.04790967 0.21452548 0.49527006 0.78486421 0.96124504\n",
      " 1.        ]\n",
      "\troc_auc: 0.5608295450979348\n",
      "Starting run: Breed KNN with args {'metric': 'euclidean', 'n_neighbors': 1}\n",
      "Metrics for this run:\n",
      "\ttrain_time_sec: 0.0517557\n",
      "\ttest_time_sec: 22.0698963\n",
      "\ttrain_accuracy: 0.9996185244525826\n",
      "\ttrain_precision: 0.9996185244525826\n",
      "\ttrain_recall: 0.9996185244525826\n",
      "\ttest_accuracy: 0.03143118706133659\n",
      "\ttest_precision: 0.020585809854015466\n",
      "\ttest_recall: 0.020414517611356847\n",
      "\troc_false_pos_rate: None\n",
      "\troc_true_pos_rate: None\n",
      "\troc_auc: None\n",
      "Starting run: Breed KNN with args {'metric': 'euclidean', 'n_neighbors': 3}\n",
      "Metrics for this run:\n",
      "\ttrain_time_sec: 0.0461929\n",
      "\ttest_time_sec: 23.8558887\n",
      "\ttrain_accuracy: 0.3756771190966659\n",
      "\ttrain_precision: 0.3756771190966659\n",
      "\ttrain_recall: 0.3756771190966659\n",
      "\ttest_accuracy: 0.014800122062862374\n",
      "\ttest_precision: 0.015742239506575245\n",
      "\ttest_recall: 0.013674152624360905\n",
      "\troc_false_pos_rate: None\n",
      "\troc_true_pos_rate: None\n",
      "\troc_auc: None\n",
      "Starting run: Breed KNN with args {'metric': 'euclidean', 'n_neighbors': 5}\n",
      "Metrics for this run:\n",
      "\ttrain_time_sec: 0.0464819\n",
      "\ttest_time_sec: 26.302736\n",
      "\ttrain_accuracy: 0.24811169604028382\n",
      "\ttrain_precision: 0.24811169604028382\n",
      "\ttrain_recall: 0.24811169604028382\n",
      "\ttest_accuracy: 0.014342386328959414\n",
      "\ttest_precision: 0.014504664937963457\n",
      "\ttest_recall: 0.011773969644013182\n",
      "\troc_false_pos_rate: None\n",
      "\troc_true_pos_rate: None\n",
      "\troc_auc: None\n",
      "Starting run: Species BOSSVS with args {'word_size': 2, 'window_size': 16}\n",
      "Metrics for this run:\n",
      "\ttrain_time_sec: 68.0725124\n",
      "\ttest_time_sec: 83.0599987\n",
      "\ttrain_accuracy: 0.513694972152285\n",
      "\ttrain_precision: 0.513694972152285\n",
      "\ttrain_recall: 0.513694972152285\n",
      "\ttest_accuracy: 0.507934086054318\n",
      "\ttest_precision: 0.5082966032244596\n",
      "\ttest_recall: 0.507934086054318\n",
      "\troc_false_pos_rate: [0.         0.59658224 1.        ]\n",
      "\troc_true_pos_rate: [0.         0.61245041 1.        ]\n",
      "\troc_auc: 0.507934086054318\n",
      "Starting run: Species BOSSVS with args {'word_size': 3, 'window_size': 16}\n",
      "Metrics for this run:\n",
      "\ttrain_time_sec: 77.1703334\n",
      "\ttest_time_sec: 95.1925876\n",
      "\ttrain_accuracy: 0.5185397116044862\n",
      "\ttrain_precision: 0.5185397116044862\n",
      "\ttrain_recall: 0.5185397116044862\n",
      "\ttest_accuracy: 0.515868172108636\n",
      "\ttest_precision: 0.5160123916463886\n",
      "\ttest_recall: 0.5158681721086359\n",
      "\troc_false_pos_rate: [0.         0.53158377 1.        ]\n",
      "\troc_true_pos_rate: [0.         0.56332011 1.        ]\n",
      "\troc_auc: 0.515868172108636\n",
      "Starting run: Species BOSSVS with args {'word_size': 4, 'window_size': 16}\n",
      "Metrics for this run:\n",
      "\ttrain_time_sec: 89.6713608\n",
      "\ttest_time_sec: 108.0266152\n",
      "\ttrain_accuracy: 0.5251392385748074\n",
      "\ttrain_precision: 0.5251392385748074\n",
      "\ttrain_recall: 0.5251392385748074\n",
      "\ttest_accuracy: 0.5195300579798596\n",
      "\ttest_precision: 0.5196547375744662\n",
      "\ttest_recall: 0.5195300579798596\n",
      "\troc_false_pos_rate: [0.         0.52029295 1.        ]\n",
      "\troc_true_pos_rate: [0.         0.55935307 1.        ]\n",
      "\troc_auc: 0.5195300579798596\n",
      "Starting run: Breed BOSSVS with args {'word_size': 2, 'window_size': 16}\n"
     ]
    },
    {
     "name": "stderr",
     "output_type": "stream",
     "text": [
      "C:\\Users\\Travis\\Desktop\\CS_6080\\utils.py:107: RuntimeWarning: invalid value encountered in true_divide\n",
      "  train_precision = np.nanmean(np.diag(train_confusion) / np.sum(train_confusion, axis = 0))\n",
      "C:\\Users\\Travis\\Desktop\\CS_6080\\utils.py:110: RuntimeWarning: invalid value encountered in true_divide\n",
      "  test_precision = np.nanmean(np.diag(test_confusion) / np.sum(test_confusion, axis = 0))\n"
     ]
    },
    {
     "name": "stdout",
     "output_type": "stream",
     "text": [
      "Metrics for this run:\n",
      "\ttrain_time_sec: 66.753298\n",
      "\ttest_time_sec: 82.431614\n",
      "\ttrain_accuracy: 0.008583199816891738\n",
      "\ttrain_precision: 0.008583199816891738\n",
      "\ttrain_recall: 0.008583199816891738\n",
      "\ttest_accuracy: 0.007628928898382667\n",
      "\ttest_precision: 0.0064132771728507435\n",
      "\ttest_recall: 0.010465543288640704\n",
      "\troc_false_pos_rate: None\n",
      "\troc_true_pos_rate: None\n",
      "\troc_auc: None\n",
      "Starting run: Breed BOSSVS with args {'word_size': 3, 'window_size': 16}\n"
     ]
    },
    {
     "name": "stderr",
     "output_type": "stream",
     "text": [
      "C:\\Users\\Travis\\Desktop\\CS_6080\\utils.py:107: RuntimeWarning: invalid value encountered in true_divide\n",
      "  train_precision = np.nanmean(np.diag(train_confusion) / np.sum(train_confusion, axis = 0))\n",
      "C:\\Users\\Travis\\Desktop\\CS_6080\\utils.py:110: RuntimeWarning: invalid value encountered in true_divide\n",
      "  test_precision = np.nanmean(np.diag(test_confusion) / np.sum(test_confusion, axis = 0))\n"
     ]
    },
    {
     "name": "stdout",
     "output_type": "stream",
     "text": [
      "Metrics for this run:\n",
      "\ttrain_time_sec: 77.8792104\n",
      "\ttest_time_sec: 96.232199\n",
      "\ttrain_accuracy: 0.009002822919050888\n",
      "\ttrain_precision: 0.009002822919050888\n",
      "\ttrain_recall: 0.009002822919050888\n",
      "\ttest_accuracy: 0.007018614586512054\n",
      "\ttest_precision: 0.005370142467034116\n",
      "\ttest_recall: 0.00958809418849958\n",
      "\troc_false_pos_rate: None\n",
      "\troc_true_pos_rate: None\n",
      "\troc_auc: None\n"
     ]
    },
    {
     "name": "stderr",
     "output_type": "stream",
     "text": [
      "C:\\Users\\Travis\\Desktop\\CS_6080\\utils.py:107: RuntimeWarning: invalid value encountered in true_divide\n",
      "  train_precision = np.nanmean(np.diag(train_confusion) / np.sum(train_confusion, axis = 0))\n",
      "C:\\Users\\Travis\\Desktop\\CS_6080\\utils.py:110: RuntimeWarning: invalid value encountered in true_divide\n",
      "  test_precision = np.nanmean(np.diag(test_confusion) / np.sum(test_confusion, axis = 0))\n"
     ]
    },
    {
     "name": "stdout",
     "output_type": "stream",
     "text": [
      "Starting run: Breed BOSSVS with args {'word_size': 4, 'window_size': 16}\n",
      "Metrics for this run:\n",
      "\ttrain_time_sec: 88.4724645\n",
      "\ttest_time_sec: 108.258289\n",
      "\ttrain_accuracy: 0.010337987335011825\n",
      "\ttrain_precision: 0.010337987335011825\n",
      "\ttrain_recall: 0.010337987335011825\n",
      "\ttest_accuracy: 0.00869697894415624\n",
      "\ttest_precision: 0.015337519521995715\n",
      "\ttest_recall: 0.011966057747013493\n",
      "\troc_false_pos_rate: None\n",
      "\troc_true_pos_rate: None\n",
      "\troc_auc: None\n"
     ]
    },
    {
     "data": {
      "text/plain": [
       "0"
      ]
     },
     "execution_count": 12,
     "metadata": {},
     "output_type": "execute_result"
    }
   ],
   "source": [
    "dataset_a3_metrics = run_classifiers_on_dataset(dataset_a3)\n",
    "with open('dataset_a3_metrics.pkl', 'wb') as handle:\n",
    "    pickle.dump(dataset_a3_metrics, handle)\n",
    "del dataset_a3\n",
    "gc.collect()"
   ]
  },
  {
   "cell_type": "markdown",
   "id": "7b39c0ea",
   "metadata": {},
   "source": [
    "## Report metrics and create plots (Accuracy, Precision, Recall, ROC)"
   ]
  },
  {
   "cell_type": "code",
   "execution_count": 2,
   "id": "7547f024",
   "metadata": {},
   "outputs": [],
   "source": [
    "with (open(\"dataset_a1_metrics.pkl\", \"rb\")) as f:\n",
    "    a1_metrics = pickle.load(f)\n",
    "with (open(\"dataset_a2_metrics.pkl\", \"rb\")) as f:\n",
    "    a2_metrics = pickle.load(f)\n",
    "with (open(\"dataset_a3_metrics.pkl\", \"rb\")) as f:\n",
    "    a3_metrics = pickle.load(f)\n",
    "all_metrics = [a1_metrics, a2_metrics, a3_metrics]"
   ]
  },
  {
   "cell_type": "code",
   "execution_count": 3,
   "id": "f4ac1276",
   "metadata": {},
   "outputs": [
    {
     "data": {
      "image/png": "[encoded data removed]",
      "text/plain": [
       "<Figure size 432x288 with 1 Axes>"
      ]
     },
     "metadata": {
      "needs_background": "light"
     },
     "output_type": "display_data"
    },
    {
     "data": {
      "image/png": "[encoded data removed]",
      "text/plain": [
       "<Figure size 432x288 with 1 Axes>"
      ]
     },
     "metadata": {
      "needs_background": "light"
     },
     "output_type": "display_data"
    },
    {
     "data": {
      "image/png": "[encoded data removed]",
      "text/plain": [
       "<Figure size 432x288 with 1 Axes>"
      ]
     },
     "metadata": {
      "needs_background": "light"
     },
     "output_type": "display_data"
    },
    {
     "data": {
      "image/png": "[encoded data removed]",
      "text/plain": [
       "<Figure size 432x288 with 1 Axes>"
      ]
     },
     "metadata": {
      "needs_background": "light"
     },
     "output_type": "display_data"
    }
   ],
   "source": [
    "# Accuracy vs Random\n",
    "\n",
    "a1_labels_hyperparams_knn = [f\"n={h['n_neighbors']}\" for h in get_hyperparams(a1_metrics, \"knn\", \"species\")]\n",
    "a1_labels_hyperparams_boss = [f\"wl={h['word_size']}, ws={h['window_size']}\" for h in get_hyperparams(a1_metrics, \"boss\", \"species\")]\n",
    "rand_accuracy_species = 1/2\n",
    "rand_accuracy_breed = 1/117\n",
    "\n",
    "create_accuracy_plot(all_metrics, \"knn\", \"species\", a1_labels_hyperparams_knn, rand_accuracy_species, \"Species test accuracy - KNN\")\n",
    "create_accuracy_plot(all_metrics, \"knn\", \"breed\", a1_labels_hyperparams_knn, rand_accuracy_breed, \"Breed test accuracy - KNN\")\n",
    "create_accuracy_plot(all_metrics, \"boss\", \"species\", a1_labels_hyperparams_boss, rand_accuracy_species, \"Species test accuracy - BOSS\")\n",
    "create_accuracy_plot(all_metrics, \"boss\", \"breed\", a1_labels_hyperparams_boss, rand_accuracy_breed, \"Breed test accuracy - BOSS\")"
   ]
  },
  {
   "cell_type": "code",
   "execution_count": 4,
   "id": "4e9f0cc6",
   "metadata": {},
   "outputs": [
    {
     "data": {
      "image/png": "[encoded data removed]",
      "text/plain": [
       "<Figure size 432x288 with 1 Axes>"
      ]
     },
     "metadata": {
      "needs_background": "light"
     },
     "output_type": "display_data"
    },
    {
     "data": {
      "image/png": "[encoded data removed]",
      "text/plain": [
       "<Figure size 432x288 with 1 Axes>"
      ]
     },
     "metadata": {
      "needs_background": "light"
     },
     "output_type": "display_data"
    }
   ],
   "source": [
    "# ROC plot\n",
    "\n",
    "create_roc_plot(all_metrics, \"knn\", \"ROC-AUC - KNN\", [2, 2, 2])\n",
    "create_roc_plot(all_metrics, \"boss\", \"ROC-AUC - BOSS\", [0, 0, 0])"
   ]
  },
  {
   "cell_type": "code",
   "execution_count": null,
   "id": "0b2ea533",
   "metadata": {},
   "outputs": [],
   "source": []
  }
 ],
 "metadata": {
  "kernelspec": {
   "display_name": "time_series_project",
   "language": "python",
   "name": "time_series_project"
  },
  "language_info": {
   "codemirror_mode": {
    "name": "ipython",
    "version": 3
   },
   "file_extension": ".py",
   "mimetype": "text/x-python",
   "name": "python",
   "nbconvert_exporter": "python",
   "pygments_lexer": "ipython3",
   "version": "3.9.7"
  }
 },
 "nbformat": 4,
 "nbformat_minor": 5
}
