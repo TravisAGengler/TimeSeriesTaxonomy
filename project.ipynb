{
 "cells": [
  {
   "cell_type": "markdown",
   "id": "1e640f85",
   "metadata": {},
   "source": [
    "# CS 6080 - Time Series Taxonomy"
   ]
  },
  {
   "cell_type": "code",
   "execution_count": null,
   "id": "deeb2b52",
   "metadata": {},
   "outputs": [],
   "source": [
    "import gc\n",
    "import os\n",
    "\n",
    "import pandas as pd\n",
    "import matplotlib as plt\n",
    "import numpy as np\n",
    "\n",
    "from pyts.classification import KNeighborsClassifier, BOSSVS\n",
    "\n",
    "from sklearn.model_selection import StratifiedShuffleSplit\n",
    "\n",
    "from data_types import Breed, Species"
   ]
  },
  {
   "cell_type": "markdown",
   "id": "81d95f3f",
   "metadata": {},
   "source": [
    "## Load the datasets metadata and produce training and testing splits on the data"
   ]
  },
  {
   "cell_type": "code",
   "execution_count": null,
   "id": "bcffba9e",
   "metadata": {},
   "outputs": [],
   "source": [
    "def load_samples_into_ram(sample_names, data_dir):\n",
    "    # TRICKY: Preallocate based on how much we will need. Makes memory usage and perfomrance MUCH better\n",
    "    if data_dir == \"data/a1\":\n",
    "        prealloc = np.zeros((len(sample_names), 64*64), dtype=\"float32\")\n",
    "    elif data_dir == \"data/a2\":\n",
    "        prealloc = np.zeros((len(sample_names), 64*3), dtype=\"float32\")\n",
    "    else:\n",
    "        assert(False, \"Must be data/a1, data/a2\")\n",
    "        \n",
    "    for i in range(0, len(sample_names)):\n",
    "        if i % 10000 == 0:\n",
    "            print(f\"Loading sample {i}\")\n",
    "            gc.collect()\n",
    "        sample_path = os.path.join(data_dir, f\"{sample_names[i]}.npy\")\n",
    "        prealloc[i, :] = np.load(sample_path)\n",
    "    gc.collect()\n",
    "    print(f\"Loaded {prealloc.shape[0]} samples\")\n",
    "    return prealloc\n",
    "\n",
    "def load_dataset(data_dir, n_splits=1, test_size=0.2):\n",
    "    dataset_meta_path = os.path.join(data_dir, \"labels.pkl\")\n",
    "    dataset_meta = pd.read_pickle(dataset_meta_path)\n",
    "        \n",
    "    samples = load_samples_into_ram(dataset_meta[\"img\"].to_numpy(), data_dir)\n",
    "    species = dataset_meta[\"species\"].to_numpy()\n",
    "    breed = dataset_meta[\"breed\"].to_numpy()\n",
    "    \n",
    "    sss = StratifiedShuffleSplit(n_splits=n_splits, test_size=test_size)\n",
    "    for train_index, test_index in sss.split(samples, species):\n",
    "        train_samples_species, test_samples_species = samples[train_index], samples[test_index]\n",
    "        train_labels_species,  test_labels_species  = species[train_index], species[test_index]\n",
    "\n",
    "    for train_index, test_index in sss.split(samples, breed):\n",
    "        train_samples_breed, test_samples_breed = samples[train_index], samples[test_index]\n",
    "        train_labels_breed,  test_labels_breed  = breed[train_index], breed[test_index]\n",
    "\n",
    "    return {\n",
    "        \"train_samples_species\": train_samples_species,\n",
    "        \"train_labels_species\": train_labels_species,\n",
    "        \"train_samples_breed\": train_samples_breed,\n",
    "        \"train_labels_breed\": train_labels_breed,\n",
    "        \"test_samples_species\": test_samples_species,\n",
    "        \"test_labels_species\": test_labels_species,\n",
    "        \"test_samples_breed\": test_samples_breed,\n",
    "        \"test_labels_breed\": test_labels_breed,\n",
    "    }"
   ]
  },
  {
   "cell_type": "markdown",
   "id": "13d68ad8",
   "metadata": {},
   "source": [
    "## Load Datasets into RAM and Perform learning on the Species label (Cat, Dog)"
   ]
  },
  {
   "cell_type": "code",
   "execution_count": null,
   "id": "e9b22004",
   "metadata": {},
   "outputs": [],
   "source": [
    "dataset_a1 = load_dataset(\"data/a1\")"
   ]
  },
  {
   "cell_type": "code",
   "execution_count": null,
   "id": "f968fb5e",
   "metadata": {
    "scrolled": true
   },
   "outputs": [],
   "source": [
    "a1_knn = KNeighborsClassifier(metric=\"euclidean\")\n",
    "a1_knn.fit(dataset_a1[\"train_samples_species\"], dataset_a1[\"train_labels_species\"])\n",
    "a1_knn_score = a1_knn.score(dataset_a1[\"test_samples_species\"], dataset_a1[\"test_labels_species\"])\n",
    "print(a1_knn_score)\n",
    "gc.collect()"
   ]
  },
  {
   "cell_type": "code",
   "execution_count": null,
   "id": "d7ba38ea",
   "metadata": {},
   "outputs": [],
   "source": [
    "a1_boss = BOSSVS(word_size=2, window_size=16)\n",
    "a1_boss.fit(dataset_a1[\"train_samples_species\"], dataset_a1[\"train_labels_species\"])\n",
    "a1_boss_score = a1_boss.score(dataset_a1[\"test_samples_species\"], dataset_a1[\"test_labels_species\"])\n",
    "print(a1_boss_score)\n",
    "gc.collect()"
   ]
  },
  {
   "cell_type": "code",
   "execution_count": null,
   "id": "4c981944",
   "metadata": {},
   "outputs": [],
   "source": [
    "del dataset_a1\n",
    "gc.collect()"
   ]
  },
  {
   "cell_type": "markdown",
   "id": "afa21615",
   "metadata": {},
   "source": [
    "## Load Datasets into RAM and Perform learning on the Breed label (Cat - Russain Blue, Dog - Standard Poodle, etc)"
   ]
  },
  {
   "cell_type": "code",
   "execution_count": null,
   "id": "462d9c30",
   "metadata": {},
   "outputs": [],
   "source": [
    "dataset_a1 = load_dataset(\"data/a1\")"
   ]
  },
  {
   "cell_type": "code",
   "execution_count": null,
   "id": "40992afa",
   "metadata": {},
   "outputs": [],
   "source": [
    "a1_knn = KNeighborsClassifier(metric=\"euclidean\")\n",
    "a1_knn.fit(dataset_a1[\"train_samples_breed\"], dataset_a1[\"train_labels_breed\"])\n",
    "a1_knn_score = a1_knn.score(dataset_a1[\"test_samples_breed\"], dataset_a1[\"test_labels_breed\"])\n",
    "print(a1_knn_score)\n",
    "gc.collect()"
   ]
  },
  {
   "cell_type": "code",
   "execution_count": null,
   "id": "82ae29ef",
   "metadata": {},
   "outputs": [],
   "source": [
    "a1_boss = BOSSVS(word_size=2, window_size=16)\n",
    "a1_boss.fit(dataset_a1[\"train_samples_breed\"], dataset_a1[\"train_labels_breed\"])\n",
    "a1_boss_score = a1_boss.score(dataset_a1[\"test_samples_breed\"], dataset_a1[\"test_labels_breed\"])\n",
    "print(a1_boss_score)\n",
    "gc.collect()"
   ]
  },
  {
   "cell_type": "markdown",
   "id": "7b39c0ea",
   "metadata": {},
   "source": [
    "## Report metrics and create plots (Accuracy, Precision, Recall, ROC)"
   ]
  },
  {
   "cell_type": "code",
   "execution_count": null,
   "id": "7547f024",
   "metadata": {},
   "outputs": [],
   "source": []
  }
 ],
 "metadata": {
  "kernelspec": {
   "display_name": "time_series_project",
   "language": "python",
   "name": "time_series_project"
  },
  "language_info": {
   "codemirror_mode": {
    "name": "ipython",
    "version": 3
   },
   "file_extension": ".py",
   "mimetype": "text/x-python",
   "name": "python",
   "nbconvert_exporter": "python",
   "pygments_lexer": "ipython3",
   "version": "3.9.7"
  }
 },
 "nbformat": 4,
 "nbformat_minor": 5
}
