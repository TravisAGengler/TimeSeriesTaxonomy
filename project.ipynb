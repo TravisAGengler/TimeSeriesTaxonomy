{
 "cells": [
  {
   "cell_type": "markdown",
   "id": "1e640f85",
   "metadata": {},
   "source": [
    "# CS 6080 - Time Series Taxonomy"
   ]
  },
  {
   "cell_type": "code",
   "execution_count": 1,
   "id": "deeb2b52",
   "metadata": {},
   "outputs": [],
   "source": [
    "import gc\n",
    "import os\n",
    "import time\n",
    "\n",
    "import pandas as pd\n",
    "import matplotlib as plt\n",
    "import numpy as np\n",
    "\n",
    "from pyts.classification import KNeighborsClassifier, BOSSVS\n",
    "\n",
    "from sklearn.model_selection import StratifiedShuffleSplit\n",
    "\n",
    "from utils import load_dataset, run_classifiers_on_dataset"
   ]
  },
  {
   "cell_type": "markdown",
   "id": "13d68ad8",
   "metadata": {},
   "source": [
    "## Load Datasets into RAM and Perform learning on the Species and Breed labels"
   ]
  },
  {
   "cell_type": "code",
   "execution_count": 2,
   "id": "e9b22004",
   "metadata": {},
   "outputs": [
    {
     "name": "stdout",
     "output_type": "stream",
     "text": [
      "Loading sample 0\n",
      "Loading sample 10000\n",
      "Loading sample 20000\n",
      "Loading sample 30000\n",
      "Loaded 32768 samples in 16.86 seconds\n"
     ]
    }
   ],
   "source": [
    "dataset_a1_sample_size = 64*64\n",
    "dataset_a1 = load_dataset(\"data/a1\", dataset_a1_sample_size)"
   ]
  },
  {
   "cell_type": "code",
   "execution_count": null,
   "id": "43a9eeb4",
   "metadata": {},
   "outputs": [
    {
     "name": "stdout",
     "output_type": "stream",
     "text": [
      "Starting run: Species KNN\n",
      "Metrics for this run:\n",
      "\ttrain_time_sec: 0.1893507399999983\n",
      "\ttest_time_sec: 124.85524803199999\n",
      "\taccuracy: 0.5872749465974977\n",
      "Starting run: Breed KNN\n",
      "Metrics for this run:\n",
      "\ttrain_time_sec: 0.19470243999998615\n",
      "\ttest_time_sec: 131.82484368099998\n",
      "\taccuracy: 0.051418980775099175\n",
      "Starting run: Species BOSSVS\n"
     ]
    }
   ],
   "source": [
    "dataset_a1_metrics = run_classifiers_on_dataset(dataset_a1)\n",
    "del dataset_a1\n",
    "gc.collect()"
   ]
  },
  {
   "cell_type": "code",
   "execution_count": null,
   "id": "ac9e3bbd",
   "metadata": {},
   "outputs": [],
   "source": [
    "dataset_a2_sample_size = 64*3\n",
    "dataset_a2 = load_dataset(\"data/a2\", dataset_a2_sample_size)"
   ]
  },
  {
   "cell_type": "code",
   "execution_count": null,
   "id": "11b1670f",
   "metadata": {},
   "outputs": [],
   "source": [
    "dataset_a2_metrics = run_classifiers_on_dataset(dataset_a1)\n",
    "del dataset_a2\n",
    "gc.collect()"
   ]
  },
  {
   "cell_type": "code",
   "execution_count": null,
   "id": "97c622a4",
   "metadata": {},
   "outputs": [],
   "source": [
    "dataset_a3_sample_size = 64*3\n",
    "dataset_a3 = load_dataset(\"data/a3\", dataset_a3_sample_size)"
   ]
  },
  {
   "cell_type": "code",
   "execution_count": null,
   "id": "6bde666a",
   "metadata": {},
   "outputs": [],
   "source": [
    "dataset_a3_metrics = run_classifiers_on_dataset(dataset_a1)\n",
    "del dataset_a3\n",
    "gc.collect()"
   ]
  },
  {
   "cell_type": "markdown",
   "id": "7b39c0ea",
   "metadata": {},
   "source": [
    "## Report metrics and create plots (Accuracy, Precision, Recall, ROC)"
   ]
  },
  {
   "cell_type": "code",
   "execution_count": null,
   "id": "7547f024",
   "metadata": {},
   "outputs": [],
   "source": []
  }
 ],
 "metadata": {
  "kernelspec": {
   "display_name": "time_series_project",
   "language": "python",
   "name": "time_series_project"
  },
  "language_info": {
   "codemirror_mode": {
    "name": "ipython",
    "version": 3
   },
   "file_extension": ".py",
   "mimetype": "text/x-python",
   "name": "python",
   "nbconvert_exporter": "python",
   "pygments_lexer": "ipython3",
   "version": "3.9.7"
  }
 },
 "nbformat": 4,
 "nbformat_minor": 5
}
